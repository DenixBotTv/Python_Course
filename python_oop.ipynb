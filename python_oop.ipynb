{
 "cells": [
  {
   "cell_type": "markdown",
   "id": "946eb7db-feb3-484a-a04d-5adf0e9f26ad",
   "metadata": {},
   "source": [
    "# OOP in Python\n",
    "## Intro\n",
    "Everything is an **object** in Python, try this in your console\n",
    "```python\n",
    "x = 1\n",
    "help(x)\n",
    "dir(x)  # prints attributes and methods\n",
    "\n",
    "y = [1,2,3]\n",
    "help(y)\n",
    "dir(y)\n",
    "```\n",
    "To instatntiate our own object, we need to define our **class**, to do that we start with its definition\n",
    "```python\n",
    "class Car:\n",
    "    ''' car abstraction '''\n",
    "    pass\n",
    "```\n",
    "\n",
    "to create an instance of this class, we can do in a pretty simple way\n",
    "```python\n",
    "x = Car()\n",
    "```\n",
    "\n",
    "## Constructor\n",
    "To define a constructor in a Python class, you must do in this way:\n",
    "\n",
    "```python\n",
    "class Car:\n",
    "    ''' car abstraction '''\n",
    "    def __init__(self, brand, model):\n",
    "        self.brand = brand\n",
    "        self.model = model\n",
    "\n",
    "bmw318 = Car('BMW', '318i')\n",
    "```\n",
    "\n",
    "## Class variables\n",
    "To create a class variable, you can do outside the constructor\n",
    "```python\n",
    "class Car:\n",
    "    ''' car abstraction '''\n",
    "\n",
    "    type = 'car'   # this is a class variable\n",
    "    \n",
    "    def __init__(self, brand, model):\n",
    "        self.brand = brand\n",
    "        self.model = model\n",
    "```  "
   ]
  },
  {
   "cell_type": "code",
   "execution_count": 1,
   "id": "6be0480b-d994-4f42-bd73-6d0b1323f382",
   "metadata": {},
   "outputs": [
    {
     "name": "stdout",
     "output_type": "stream",
     "text": [
      "New patient: Paolo - Rossi, age: 89\n"
     ]
    }
   ],
   "source": [
    "class Patient:\n",
    "    ''' hospital patient '''\n",
    "    status = 'patient'\n",
    "\n",
    "    def __init__(self, name, surname, age):\n",
    "        self.name = name\n",
    "        self.surname = surname \n",
    "        self.age = age\n",
    "\n",
    "\n",
    "patient001 = Patient('Paolo', 'Rossi', 89)\n",
    "\n",
    "print(f'New {Patient.status}: {patient001.name} - {patient001.surname}, age: {patient001.age}')"
   ]
  },
  {
   "cell_type": "markdown",
   "id": "83aa2566-d802-47ff-a578-5f381cf176cb",
   "metadata": {},
   "source": [
    "## Methods\n",
    "We can create methods inside a class\n",
    "```python\n",
    "class Car:\n",
    "    ''' car abstraction '''\n",
    "\n",
    "    type = 'car'   # this is a class variable\n",
    "    \n",
    "    def __init__(self, brand, model):\n",
    "        self.brand = brand\n",
    "        self.model = model\n",
    "\n",
    "    def get_details(self):\n",
    "        print(f'Car spec: {self.brand} - {self.model}')\n",
    "\n",
    "bmw318 = Car('BMW', '318i')\n",
    "\n",
    "bmw318.get_details()\n",
    "```  "
   ]
  },
  {
   "cell_type": "markdown",
   "id": "07d29189-5f69-4413-8bde-34decbaabc70",
   "metadata": {},
   "source": [
    "## Private attributes\n",
    "Python does not have true private variables like Java or C++, but there is a **Pythonic way** to define **private attributes**: by using name mangling (prefixing attribute names with __) combined with **property decorators**.\n",
    "```python\n",
    "class Person:\n",
    "    def __init__(self, name, age):\n",
    "        self.__name = name        # private attribute\n",
    "        self.__age = age          # private attribute\n",
    "\n",
    "    @property\n",
    "    def name(self):\n",
    "        return self.__name\n",
    "\n",
    "    @name.setter\n",
    "    def name(self, value):\n",
    "        if not value:\n",
    "            raise ValueError(\"Name cannot be empty\")\n",
    "        self.__name = value\n",
    "\n",
    "    @property\n",
    "    def age(self):\n",
    "        return self.__age\n",
    "\n",
    "    @age.setter\n",
    "    def age(self, value):\n",
    "        if value < 0:\n",
    "            raise ValueError(\"Age cannot be negative\")\n",
    "        self.__age = value\n",
    "``` "
   ]
  },
  {
   "cell_type": "markdown",
   "id": "05bce26c-6976-40f9-a48b-08800ad856bc",
   "metadata": {},
   "source": [
    "## Inheritance\n",
    "Coming back to Car class definition, we can now define an abstraction for objects that inherit from Car\n",
    "\n",
    "```python\n",
    "class ECar(Car):\n",
    "    ''' ecar abstraction \n",
    "    \n",
    "        a new attribute is added: battery_level\n",
    "    '''\n",
    "\n",
    "    type = 'car'   # this is a class variable\n",
    "    \n",
    "    def __init__(self, brand, model):\n",
    "        super().__init__(brand, model)\n",
    "        self.battery_level = 0\n",
    "\n",
    "    def get_details(self):\n",
    "        print(f'eCar spec: {self.brand} - {self.model}, battery level: {self.battery_level}')\n",
    "\n",
    "    def charge(level):\n",
    "        self.battery_level = level\n",
    "```"
   ]
  },
  {
   "cell_type": "markdown",
   "id": "96be58de-3db4-45d7-b1fa-6cfb290fe080",
   "metadata": {},
   "source": [
    "## Exercises\n",
    "**Question 1** \\\n",
    "Create a class to represent a bank account. It will need to have a balance, a method of withdrawing money, depositing money and displaying the balance to the screen. Create an instance of the bank account and check that the methods work as expected.\n",
    "\n",
    "**Question 2** \\\n",
    "Create a circle class that will take the value of a radius and return the area of the circle"
   ]
  },
  {
   "cell_type": "code",
   "execution_count": null,
   "id": "dd8f3c65-1a9f-4479-ae9b-65dd9f53f1f1",
   "metadata": {},
   "outputs": [],
   "source": []
  }
 ],
 "metadata": {
  "kernelspec": {
   "display_name": "Python 3 (ipykernel)",
   "language": "python",
   "name": "python3"
  },
  "language_info": {
   "codemirror_mode": {
    "name": "ipython",
    "version": 3
   },
   "file_extension": ".py",
   "mimetype": "text/x-python",
   "name": "python",
   "nbconvert_exporter": "python",
   "pygments_lexer": "ipython3",
   "version": "3.13.3"
  }
 },
 "nbformat": 4,
 "nbformat_minor": 5
}
