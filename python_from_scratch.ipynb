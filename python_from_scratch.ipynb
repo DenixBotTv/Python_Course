{
  "cells": [
    {
      "cell_type": "markdown",
      "id": "383ffc6d-e136-41b7-865c-6e8b83184d2b",
      "metadata": {
        "id": "383ffc6d-e136-41b7-865c-6e8b83184d2b"
      },
      "source": [
        "# Python from scratch"
      ]
    },
    {
      "cell_type": "markdown",
      "id": "55649591-1617-47a8-94fe-39dc5ea60e34",
      "metadata": {
        "id": "55649591-1617-47a8-94fe-39dc5ea60e34"
      },
      "source": [
        "## Variables and argument passing\n",
        "One interesting thing is that\n",
        "```python\n",
        "a = [1,2,3]\n",
        "b = a  # many languages create a copy of and assign it to b, NOT IN PYTHON\n",
        "```"
      ]
    },
    {
      "cell_type": "code",
      "execution_count": null,
      "id": "a8a32db2-670e-4c82-aaa1-0c6f91d66019",
      "metadata": {
        "id": "a8a32db2-670e-4c82-aaa1-0c6f91d66019",
        "outputId": "ebe40fad-ac13-44cc-f7c0-986036f00830"
      },
      "outputs": [
        {
          "name": "stdout",
          "output_type": "stream",
          "text": [
            "[1, 2, 3]\n",
            "[1, 2, 3, 4]\n"
          ]
        }
      ],
      "source": [
        "a = [1,2,3,4,5,6]\n",
        "b = a\n",
        "print(b)\n",
        "a.append(4)\n",
        "print(b)\n",
        "print(a)\n",
        "\n",
        "c = a + b + [4,4]\n",
        "d = a+b\n",
        "print(c)\n",
        "\n",
        "\n",
        "print(id(a))\n",
        "print(id(b))\n",
        "print(id(c))\n",
        "print(id(d))"
      ]
    },
    {
      "cell_type": "markdown",
      "id": "44e644a7-fb6c-4fbc-bf53-4337d58c7aee",
      "metadata": {
        "id": "44e644a7-fb6c-4fbc-bf53-4337d58c7aee"
      },
      "source": [
        "## Mutable VS Immutable\n",
        "Immutable are str, int, float, bool, bytes and tuple\n",
        "\n",
        "```python\n",
        "x = (3,4)   # (3,4) is a tuple\n",
        "x[0] = 1  # TypeError: ‘tuple’ object does not support item assignment\n",
        "```"
      ]
    },
    {
      "cell_type": "code",
      "execution_count": null,
      "id": "c7dca9f5-5565-4ed1-b37f-62f3dbc4ba22",
      "metadata": {
        "id": "c7dca9f5-5565-4ed1-b37f-62f3dbc4ba22",
        "outputId": "90ae55ca-b08e-4bfd-c349-67107b66db4c"
      },
      "outputs": [
        {
          "name": "stdout",
          "output_type": "stream",
          "text": [
            "(3, 4, 5) (1, 2)\n"
          ]
        }
      ],
      "source": [
        "x = (1,2)\n",
        "y = x\n",
        "x =(3,4,5)\n",
        "\n",
        "print(x,y)"
      ]
    },
    {
      "cell_type": "markdown",
      "id": "13a8811b-a7f7-4274-96f8-ca933c80cfaa",
      "metadata": {
        "id": "13a8811b-a7f7-4274-96f8-ca933c80cfaa"
      },
      "source": [
        "Mutable are list, set, dict"
      ]
    },
    {
      "cell_type": "markdown",
      "id": "9636a93f-f261-45fc-a6b0-29bd06dbef50",
      "metadata": {
        "id": "9636a93f-f261-45fc-a6b0-29bd06dbef50"
      },
      "source": [
        "## Loops\n",
        "To write a for loop statement you must take in account that identation matter, so you can't write a foor loop in this way:\n",
        "```python\n",
        "for i in range(10):\n",
        "print(i)  # indentation error\n",
        "```\n",
        "\n",
        "but you can do in one of the following ways:"
      ]
    },
    {
      "cell_type": "code",
      "execution_count": null,
      "id": "00e40a5f-6b72-4477-b9fb-259313f0c546",
      "metadata": {
        "id": "00e40a5f-6b72-4477-b9fb-259313f0c546",
        "outputId": "4cf6069d-82c5-4494-fdfe-50529ef9459b"
      },
      "outputs": [
        {
          "name": "stdout",
          "output_type": "stream",
          "text": [
            "0\n",
            "1\n",
            "2\n",
            "3\n",
            "4\n",
            "5\n",
            "6\n",
            "7\n",
            "8\n",
            "9\n",
            "\n",
            "1 2 3 4 5 6 7 8 9 \n",
            "1 5 9 \n",
            "10 9 8 7 6 5 4 3 2 "
          ]
        }
      ],
      "source": [
        "for i in range(10):\n",
        "   print(i)\n",
        "print()\n",
        "\n",
        "for i in range(1,10):\n",
        "   print(i, end=' ')\n",
        "print()\n",
        "\n",
        "for i in range(1,10,4):\n",
        "   print(i, end=' ')\n",
        "print()\n",
        "\n",
        "for i in range(10,1,-1):\n",
        "   print(i, end=' ')"
      ]
    },
    {
      "cell_type": "markdown",
      "id": "aee6bd72-d526-47c8-a45f-7bcfd694a7f8",
      "metadata": {
        "id": "aee6bd72-d526-47c8-a45f-7bcfd694a7f8"
      },
      "source": [
        "*range* is a class, if you want to investigate it, use *help(range)*"
      ]
    },
    {
      "cell_type": "markdown",
      "id": "755031b5-d047-4b76-82f2-80f619eabb56",
      "metadata": {
        "id": "755031b5-d047-4b76-82f2-80f619eabb56"
      },
      "source": [
        "## Tuple\n",
        "A *tuple* is a fixed-length, immutable sequence of Python objects which, once assigned, cannot be changed. You can access single element with sual square brackets method."
      ]
    },
    {
      "cell_type": "code",
      "execution_count": null,
      "id": "23e60cbf-4d7e-495d-bc99-c12cdef43f98",
      "metadata": {
        "id": "23e60cbf-4d7e-495d-bc99-c12cdef43f98",
        "outputId": "f46c5222-0230-4bc0-8b6c-25c16718bdad"
      },
      "outputs": [
        {
          "name": "stdout",
          "output_type": "stream",
          "text": [
            "<class 'tuple'>\n",
            "('s', 't', 'r', 'i', 'n', 'g')\n",
            "('foo', True, [1, 2, 3])\n",
            "[1, 2, 3]\n",
            "(1, 2, 3, 'bar', False)\n",
            "(9, 'toffee', False, 9, 'toffee', False, 9, 'toffee', False)\n"
          ]
        }
      ],
      "source": [
        "tup_a = (1,2,3)\n",
        "tup_b = 7,9,4  #it is still a tuple\n",
        "print(type(tup_b))\n",
        "\n",
        "tup_c = tuple('string')\n",
        "print(tup_c)\n",
        "\n",
        "tup_d = ('foo', True, [1,2,3])\n",
        "print(tup_d)\n",
        "print(tup_d[2])\n",
        "\n",
        "tup_e = (1,2,3) + ('bar',) + (False,)\n",
        "print(tup_e)\n",
        "\n",
        "tup_f = (9, 'toffee', False) * 3\n",
        "print(tup_f)"
      ]
    },
    {
      "cell_type": "markdown",
      "id": "d0756e4c-3bf9-42ba-97a7-5f10ffc5ff7d",
      "metadata": {
        "id": "d0756e4c-3bf9-42ba-97a7-5f10ffc5ff7d"
      },
      "source": [
        "### Unpacking tuples"
      ]
    },
    {
      "cell_type": "code",
      "execution_count": null,
      "id": "0b91482a-385d-44f2-b302-224047aab2d2",
      "metadata": {
        "id": "0b91482a-385d-44f2-b302-224047aab2d2",
        "outputId": "babdc148-2079-43a2-f519-bc1e1ed1a63b"
      },
      "outputs": [
        {
          "name": "stdout",
          "output_type": "stream",
          "text": [
            "2\n",
            "\n",
            "\n",
            "1\n",
            "2\n",
            "after swapping\n",
            "2\n",
            "1\n",
            "\n",
            "\n",
            "1\n",
            "2\n",
            "[3, 4, 5]\n"
          ]
        }
      ],
      "source": [
        "tup = (1,2,3)\n",
        "a,b,c = tup\n",
        "print(b)\n",
        "print('\\n')\n",
        "a,b = 1,2\n",
        "print(a)\n",
        "print(b)\n",
        "a,b = b,a  # swapping is very easy\n",
        "print('after swapping')\n",
        "print(a)\n",
        "print(b)\n",
        "print('\\n')\n",
        "tup_b = 1,2,3,4,5\n",
        "a,b,*rest = tup_b\n",
        "print(a)\n",
        "print(b)\n",
        "print(rest)"
      ]
    },
    {
      "cell_type": "markdown",
      "id": "bb62c07d-c1f7-4012-ba51-033dba5fa22c",
      "metadata": {
        "id": "bb62c07d-c1f7-4012-ba51-033dba5fa22c"
      },
      "source": [
        "## List\n",
        "Lists are mutable, they can be modified\n",
        "You can define a list in a simple way\n",
        "```python\n",
        "data = [1,4,5,67,9]\n",
        "```\n",
        "or you can convert an iterator into a list\n",
        "```python\n",
        "data = list(range(10))\n",
        "```\n",
        "or you can convert a tuple into a list\n",
        "```python\n",
        "tup = (1,2,3)\n",
        "data = list(tup)\n",
        "```\n",
        "\n",
        "and you can traverse it with a simple *for loop*"
      ]
    },
    {
      "cell_type": "code",
      "execution_count": null,
      "id": "a690a25d-ee6a-495c-ba0a-1138d3d9d228",
      "metadata": {
        "id": "a690a25d-ee6a-495c-ba0a-1138d3d9d228",
        "outputId": "c568fa1d-ae3c-4cf4-a8dc-08d88cce4fa7"
      },
      "outputs": [
        {
          "name": "stdout",
          "output_type": "stream",
          "text": [
            "1 4 5 67 9 "
          ]
        }
      ],
      "source": [
        "data = [1,4,5,67,9]\n",
        "\n",
        "for num in data:\n",
        "   print(num, end=' ')"
      ]
    },
    {
      "cell_type": "markdown",
      "id": "75b9b511-dc6a-40e8-a335-931744ad81b9",
      "metadata": {
        "id": "75b9b511-dc6a-40e8-a335-931744ad81b9"
      },
      "source": [
        "You can do stuff like this\n",
        "```python\n",
        "sum = 0\n",
        "for num in data:\n",
        "   sum += num\n",
        "```\n",
        "\n",
        "or you can exploit some builtin functions like *sum* or *max* or *sorted*"
      ]
    },
    {
      "cell_type": "code",
      "execution_count": null,
      "id": "fbcc320e-f2ce-4e61-9263-64393427504a",
      "metadata": {
        "id": "fbcc320e-f2ce-4e61-9263-64393427504a",
        "outputId": "7acbb2ed-8174-4371-ebda-fdc5091c65b0"
      },
      "outputs": [
        {
          "name": "stdout",
          "output_type": "stream",
          "text": [
            "98\n",
            "67\n",
            "[4, 5, 9, 13, 67]\n"
          ]
        }
      ],
      "source": [
        "data = [13,4,5,67,9]\n",
        "total = sum(data)\n",
        "print(total)\n",
        "max_num = max(data)\n",
        "print(max_num)\n",
        "print(sorted(data))"
      ]
    },
    {
      "cell_type": "markdown",
      "id": "84d2c638-ba1f-4e78-93ee-e01ef665772b",
      "metadata": {
        "id": "84d2c638-ba1f-4e78-93ee-e01ef665772b"
      },
      "source": [
        "You can easily duplicate a list,\n",
        "```python\n",
        "data_copy = data[:]\n",
        "```\n",
        "add new values\n",
        "```python\n",
        "data_copy.append(100)\n",
        "```\n",
        "or even remove some value\n",
        "```python\n",
        "data_copy.remove(4)\n",
        "```\n",
        "\n",
        "You can easily explore all the available methods in your IDE simply with the dot (.) operator"
      ]
    },
    {
      "cell_type": "code",
      "execution_count": null,
      "id": "096c887e-b4b9-49b3-94a9-48eae2ce1587",
      "metadata": {
        "id": "096c887e-b4b9-49b3-94a9-48eae2ce1587",
        "outputId": "510fb53f-7568-46a3-86d5-86601a256f0a"
      },
      "outputs": [
        {
          "name": "stdout",
          "output_type": "stream",
          "text": [
            "[1, 99, 4, 5, 67, 9, 100]\n",
            "5\n",
            "[1, 99, 4, 5, 9, 100, 45, 56, 89]\n"
          ]
        }
      ],
      "source": [
        "my_list = [1,4,5,67,9]\n",
        "my_list.append(100)\n",
        "my_list.insert(1,99)  #first arg in the index\n",
        "print(my_list)\n",
        "my_list.remove(67)\n",
        "print(my_list.index(100))\n",
        "my_list.extend([45,56,89])\n",
        "print(my_list)"
      ]
    },
    {
      "cell_type": "markdown",
      "id": "16e8c0a7-0139-4379-acf9-ae35fb8a843d",
      "metadata": {
        "id": "16e8c0a7-0139-4379-acf9-ae35fb8a843d"
      },
      "source": [
        "### Particular behaviour\n",
        "What happen in this situation?"
      ]
    },
    {
      "cell_type": "code",
      "execution_count": null,
      "id": "219035d2-da4e-47ec-abf3-3862a91ebd83",
      "metadata": {
        "id": "219035d2-da4e-47ec-abf3-3862a91ebd83",
        "outputId": "e7c52697-204b-4040-efc9-3cd5cded8775"
      },
      "outputs": [
        {
          "name": "stdout",
          "output_type": "stream",
          "text": [
            "4 4\n",
            "6 4\n"
          ]
        }
      ],
      "source": [
        "x = 4\n",
        "y = x\n",
        "print(x,y)\n",
        "x = 6\n",
        "print(x,y)"
      ]
    },
    {
      "cell_type": "markdown",
      "id": "fddd983b-39da-46c4-b6dc-d0e87394c3da",
      "metadata": {
        "id": "fddd983b-39da-46c4-b6dc-d0e87394c3da"
      },
      "source": [
        "I assign the *VALUE* of x to y, if I change x, this is not reflected in the value of y.\n",
        "The following is a different behaviour"
      ]
    },
    {
      "cell_type": "code",
      "execution_count": null,
      "id": "b23acff9-7f06-4702-9733-2d90486c8743",
      "metadata": {
        "id": "b23acff9-7f06-4702-9733-2d90486c8743",
        "outputId": "4d4656df-50cc-4f20-cc26-7d8dbc92db08"
      },
      "outputs": [
        {
          "name": "stdout",
          "output_type": "stream",
          "text": [
            "at the beginning x = [1, 2] and y = [1, 2]\n",
            "after the assignment x = [100, 2] and y = [100, 2]\n"
          ]
        }
      ],
      "source": [
        "x = [1,2]\n",
        "y = x\n",
        "print(f'at the beginning x = {x} and y = {y}')\n",
        "\n",
        "x[0] = 100\n",
        "print(f'after the assignment x = {x} and y = {y}')"
      ]
    },
    {
      "cell_type": "markdown",
      "id": "5efaf0d6-d66f-44be-8882-7172f8647c68",
      "metadata": {
        "id": "5efaf0d6-d66f-44be-8882-7172f8647c68"
      },
      "source": [
        "This is because you are assigning a *mutable object to x*, so you are assigning its reference.\n",
        "You can experience the same thing when you pass a list as an argument of a function, you are passing its reference, so whatever you do in the function, this will be reflected in the original list"
      ]
    },
    {
      "cell_type": "markdown",
      "id": "dce1b58b-85c7-435d-92ee-241b9d29100b",
      "metadata": {
        "id": "dce1b58b-85c7-435d-92ee-241b9d29100b"
      },
      "source": [
        "### List comprehension\n",
        "Let's see some stuff about list to enhance our comprehension"
      ]
    },
    {
      "cell_type": "code",
      "execution_count": null,
      "id": "1772ccd2-9c60-4736-9d6e-ce402e39ff9e",
      "metadata": {
        "id": "1772ccd2-9c60-4736-9d6e-ce402e39ff9e",
        "outputId": "41356cb5-4c75-4d5e-9cae-4fc89803c84d"
      },
      "outputs": [
        {
          "name": "stdout",
          "output_type": "stream",
          "text": [
            "[0, 1, 2, 3, 4, 5, 6, 7, 8, 9]\n",
            "[[0, 1, 2], [0, 1, 2], [0, 1, 2], [0, 1, 2], [0, 1, 2], [0, 1, 2], [0, 1, 2], [0, 1, 2], [0, 1, 2], [0, 1, 2]]\n"
          ]
        }
      ],
      "source": [
        "x = [i for i in range(10)]\n",
        "print(x)\n",
        "\n",
        "x = [[i for i in range(3)] for i in range(10)]\n",
        "print(x)"
      ]
    },
    {
      "cell_type": "markdown",
      "id": "61c16e61-e91a-4567-8cda-74e8c0ec0d20",
      "metadata": {
        "id": "61c16e61-e91a-4567-8cda-74e8c0ec0d20"
      },
      "source": [
        "Inside a list's definition I can put also if statement to select some kind of elements"
      ]
    },
    {
      "cell_type": "code",
      "execution_count": null,
      "id": "c00e6356-4a18-48b7-8d3f-7427695ea212",
      "metadata": {
        "id": "c00e6356-4a18-48b7-8d3f-7427695ea212",
        "outputId": "072a7339-5e10-406d-ed24-b7245ca83a88"
      },
      "outputs": [
        {
          "name": "stdout",
          "output_type": "stream",
          "text": [
            "[0, 2, 4, 6, 8]\n"
          ]
        }
      ],
      "source": [
        "x = [i for i in range(10) if i % 2 == 0]\n",
        "print(x)"
      ]
    },
    {
      "cell_type": "markdown",
      "id": "cee62eb3-c938-4f03-90cc-15a2ab00c055",
      "metadata": {
        "id": "cee62eb3-c938-4f03-90cc-15a2ab00c055"
      },
      "source": [
        "## Dictionaries\n",
        "First thing to say: lists are **ordered** dictionaries **aren't** but they're incredibly fast due their key-value structure; they can be conferted into a **data frame**.\n",
        "```python\n",
        "capitals = {'France':'Paris','Spain':'Madrid','United Kingdom':'London',\n",
        "            'India':'New Delhi','United States':'Washington DC','Italy':'Rome',\n",
        "            'Denmark':'Copenhagen','Germany':'Berlin','Greece':'Athens',\n",
        "            'Bulgaria':'Sofia','Ireland':'Dublin','Mexico':'Mexico City'\n",
        "            }\n",
        "```\n",
        "keys are immutable, so a list can't be a key, but a list can be a value; if you want to access a value of a key you can do in two very simple ways:\n",
        "```python\n",
        "capitals['Germany']\n",
        "capitals.get('Germany')\n",
        "```\n",
        "you can also change the value of a key or add a new key-value pair:\n",
        "```python\n",
        "capitals['South Korea'] = 'Seoul'\n",
        "```\n",
        "\n",
        "\n",
        "Let's look at some quite common stuff"
      ]
    },
    {
      "cell_type": "code",
      "execution_count": null,
      "id": "7ea1b320-63bc-4026-a2d8-0ad7020904c4",
      "metadata": {
        "id": "7ea1b320-63bc-4026-a2d8-0ad7020904c4",
        "outputId": "556e6e63-a826-4bc0-ed3d-c394bb3220c3"
      },
      "outputs": [
        {
          "name": "stdout",
          "output_type": "stream",
          "text": [
            "{'France': 'Paris', 'Spain': 'Madrid', 'United Kingdom': 'London', 'India': 'New Delhi', 'United States': 'Washington DC', 'Italy': 'Rome'}\n",
            "\n",
            "dict_items([('France', 'Paris'), ('Spain', 'Madrid'), ('United Kingdom', 'London'), ('India', 'New Delhi'), ('United States', 'Washington DC'), ('Italy', 'Rome')])\n",
            "\n",
            "France\n",
            "Spain\n",
            "United Kingdom\n",
            "India\n",
            "United States\n",
            "Italy\n",
            "\n",
            "The capital of France, is Paris\n",
            "The capital of Spain, is Madrid\n",
            "The capital of United Kingdom, is London\n",
            "The capital of India, is New Delhi\n",
            "The capital of United States, is Washington DC\n",
            "The capital of Italy, is Rome\n",
            "\n",
            "dict_keys(['France', 'Spain', 'United Kingdom', 'India', 'United States', 'Italy'])\n",
            "\n",
            "dict_values(['Paris', 'Madrid', 'London', 'New Delhi', 'Washington DC', 'Rome'])\n",
            "\n",
            "It contains France\n"
          ]
        }
      ],
      "source": [
        "capitals = {'France':'Paris','Spain':'Madrid','United Kingdom':'London',\n",
        "            'India':'New Delhi','United States':'Washington DC','Italy':'Rome'\n",
        "            }\n",
        "print(capitals)\n",
        "print()\n",
        "\n",
        "print (capitals.items())\n",
        "print()\n",
        "\n",
        "for country in capitals:\n",
        "    print(country)\n",
        "print()\n",
        "\n",
        "for country, city in capitals.items():\n",
        "    print(f'The capital of {country}, is {city}')\n",
        "print()\n",
        "\n",
        "print(capitals.keys())\n",
        "print()\n",
        "\n",
        "print(capitals.values())\n",
        "print()\n",
        "\n",
        "if 'France' in capitals:\n",
        "    print('It contains France')"
      ]
    },
    {
      "cell_type": "markdown",
      "id": "e07a8344-eb5f-46aa-b15b-0212d428703c",
      "metadata": {
        "id": "e07a8344-eb5f-46aa-b15b-0212d428703c"
      },
      "source": [
        "Elements of a dictionary can be dictionary themselves."
      ]
    },
    {
      "cell_type": "code",
      "execution_count": null,
      "id": "5e7857e0-ec1f-4efc-9526-431b1ed3f7d3",
      "metadata": {
        "id": "5e7857e0-ec1f-4efc-9526-431b1ed3f7d3",
        "outputId": "a3faa032-f5d7-448a-bf95-5d881de44ea4"
      },
      "outputs": [
        {
          "name": "stdout",
          "output_type": "stream",
          "text": [
            "France {'Capital': 'Paris', 'Language': 'French'}\n",
            "Spain {'Capital': 'Madrid', 'Language': 'Spanish'}\n",
            "United Kingdom {'Capital': 'London', 'Language': 'English'}\n",
            "United States {'Capital': 'Washington DC', 'Language': 'English'}\n",
            "Italy {'Capital': 'Rome', 'Language': 'Italian'}\n",
            "\n",
            "Paris is the capital of France, they speak French.\n",
            "Madrid is the capital of Spain, they speak Spanish.\n",
            "London is the capital of United Kingdom, they speak English.\n",
            "Washington DC is the capital of United States, they speak English.\n",
            "Rome is the capital of Italy, they speak Italian.\n"
          ]
        }
      ],
      "source": [
        "countries = {'France':{'Capital':'Paris','Language':'French'},'Spain':{'Capital':'Madrid','Language':'Spanish'},\n",
        "             'United Kingdom':{'Capital':'London','Language':'English'},\n",
        "            'United States':{'Capital':'Washington DC','Language':'English'},\n",
        "            'Italy':{'Capital':'Rome','Language':'Italian'}\n",
        "            }\n",
        "\n",
        "for key, value in countries.items():\n",
        "    print(key,value)\n",
        "\n",
        "print()\n",
        "for key, value in countries.items():\n",
        "    print(f'{value[\"Capital\"]} is the capital of {key}, they speak {value[\"Language\"]}.')\n"
      ]
    },
    {
      "cell_type": "code",
      "execution_count": null,
      "id": "944611c6-cd0d-43ac-af22-3586ff171702",
      "metadata": {
        "id": "944611c6-cd0d-43ac-af22-3586ff171702"
      },
      "outputs": [],
      "source": []
    },
    {
      "cell_type": "code",
      "execution_count": null,
      "id": "5fcec613-cb44-4483-9f19-82bccd0f3ad3",
      "metadata": {
        "id": "5fcec613-cb44-4483-9f19-82bccd0f3ad3"
      },
      "outputs": [],
      "source": []
    },
    {
      "cell_type": "code",
      "execution_count": null,
      "id": "dbb52ae2-7bf8-4234-af80-278f504cf424",
      "metadata": {
        "id": "dbb52ae2-7bf8-4234-af80-278f504cf424"
      },
      "outputs": [],
      "source": []
    },
    {
      "cell_type": "markdown",
      "id": "cd029c57-c4e6-47db-91eb-e1b38722b8c6",
      "metadata": {
        "id": "cd029c57-c4e6-47db-91eb-e1b38722b8c6"
      },
      "source": [
        "## Set\n",
        "A *set* is an unordered collection of unique elements, you can create it invoking the `set` function or using curly brackets"
      ]
    },
    {
      "cell_type": "markdown",
      "id": "c3ac23ad-445c-4035-99e4-9abbfd9e8da6",
      "metadata": {
        "id": "c3ac23ad-445c-4035-99e4-9abbfd9e8da6"
      },
      "source": [
        "## Set\n",
        "A *set* is an unordered collection of unique elements, you can create it invoking the `set` function or using curly brackets"
      ]
    },
    {
      "cell_type": "code",
      "execution_count": null,
      "id": "1892da84-1951-49cb-9675-25f533dc9b0e",
      "metadata": {
        "id": "1892da84-1951-49cb-9675-25f533dc9b0e",
        "outputId": "cb3050bc-5cc4-4442-8587-2beaa1a71214"
      },
      "outputs": [
        {
          "name": "stdout",
          "output_type": "stream",
          "text": [
            "{1, 2, 3, 4}\n",
            "{1, 2, 3, 4}\n"
          ]
        }
      ],
      "source": [
        "set_a = set([2,4,3,2,1,1,4])\n",
        "print(set_a)\n",
        "\n",
        "set_b = {2,4,3,2,1,1,4}\n",
        "print(set_b)"
      ]
    },
    {
      "cell_type": "code",
      "execution_count": null,
      "id": "8d9df6d2-abb3-4ed7-9b9e-0e198464ed4c",
      "metadata": {
        "id": "8d9df6d2-abb3-4ed7-9b9e-0e198464ed4c"
      },
      "outputs": [],
      "source": [
        "set_a = set([2,4,3,2,1,1,4])"
      ]
    },
    {
      "cell_type": "code",
      "execution_count": null,
      "id": "4a9785c9-3866-4de7-86e6-cfed316e779e",
      "metadata": {
        "id": "4a9785c9-3866-4de7-86e6-cfed316e779e"
      },
      "outputs": [],
      "source": []
    },
    {
      "cell_type": "markdown",
      "id": "8a8557cb-5e81-4a19-a8d6-562f151b17ed",
      "metadata": {
        "id": "8a8557cb-5e81-4a19-a8d6-562f151b17ed"
      },
      "source": [
        "## Functions\n",
        "\n",
        "### Argument and Parameter types\n",
        "You can pass an argument to a function in two ways:\n",
        "1. positional\n",
        "2. keyword\n",
        "\n",
        "```python\n",
        "def foo(x, y):\n",
        "  print(x, y)\n",
        "\n",
        "foo(1,3)\n",
        "foo(y = 2, x = 1)\n",
        "foo(1, y = 4)\n",
        "\n",
        "foo(1, x = 3)   #TypeError: foo() got multiple values for argument 'x'\n",
        "```"
      ]
    },
    {
      "cell_type": "code",
      "execution_count": null,
      "id": "fb91ad71-caca-4370-bd1a-a2d5439997e1",
      "metadata": {
        "id": "fb91ad71-caca-4370-bd1a-a2d5439997e1",
        "outputId": "8251e378-f4d1-4feb-a908-d65d9df85b2c"
      },
      "outputs": [
        {
          "name": "stdout",
          "output_type": "stream",
          "text": [
            "1 11\n"
          ]
        }
      ],
      "source": [
        "def bar(x, y, z):\n",
        "  print(x, y)\n",
        "\n",
        "bar(1, z = 33, y = 11)"
      ]
    },
    {
      "cell_type": "markdown",
      "id": "8362349d-d6a5-4300-8b80-76ba0f210bc8",
      "metadata": {
        "id": "8362349d-d6a5-4300-8b80-76ba0f210bc8"
      },
      "source": [
        "What happens if I want to adopt a mix strategy?"
      ]
    },
    {
      "cell_type": "markdown",
      "id": "0b728272-442f-45ab-8edf-63a56e02637b",
      "metadata": {
        "id": "0b728272-442f-45ab-8edf-63a56e02637b"
      },
      "source": [
        "```python\n",
        "def bar(x, y, z):\n",
        "  print(x, y)\n",
        "\n",
        "bar(z = 33, 1, y = 11)   #  SyntaxError: positional argument follows keyword argument\n",
        "```"
      ]
    },
    {
      "cell_type": "markdown",
      "id": "bd89a2e3-896f-4d6d-a471-15054d542314",
      "metadata": {
        "id": "bd89a2e3-896f-4d6d-a471-15054d542314"
      },
      "source": [
        "If you want to make a parameter optional, you must declare in this way\n",
        "```python\n",
        "def foo(x,y,z=10):\n",
        "```"
      ]
    },
    {
      "cell_type": "markdown",
      "id": "a80ba5e3-3a02-489a-8a4e-5eb5d9126a34",
      "metadata": {
        "id": "a80ba5e3-3a02-489a-8a4e-5eb5d9126a34"
      },
      "source": [
        "### return statement\n",
        "We can say that a Python function can return multiple values beacause the multiple values can be packed in a tuple; so ypu can exploit this advantage in a classical way\n",
        "```python\n",
        "def sum_and_mult(a,b):\n",
        "    total = a + b\n",
        "    product = a * b\n",
        "    \n",
        "    return total, product\n",
        "\n",
        "func_call = sum_and_mult(3,4)\n",
        "var_1, var_2 = sum_and_mult(6,7)\n",
        "```"
      ]
    },
    {
      "cell_type": "markdown",
      "id": "c09ab1f1-69d1-4eba-9637-696eb1c6ea8c",
      "metadata": {
        "id": "c09ab1f1-69d1-4eba-9637-696eb1c6ea8c"
      },
      "source": [
        "### Unexpected behaviour\n",
        "Take a look and execute this sample code. What are your expectations?"
      ]
    },
    {
      "cell_type": "code",
      "execution_count": null,
      "id": "ebf0a23c-dd66-4ab3-a3a0-8b5c60d295e2",
      "metadata": {
        "id": "ebf0a23c-dd66-4ab3-a3a0-8b5c60d295e2",
        "outputId": "beb60a79-cade-4a7f-de7b-4e466e7dfc50"
      },
      "outputs": [
        {
          "name": "stdout",
          "output_type": "stream",
          "text": [
            "[1, 2, 3, 4]\n",
            "[1, 2, 3, 4, 4]\n",
            "[1, 2, 3, 4, 4, 4]\n"
          ]
        }
      ],
      "source": [
        "def lengthen_list(n,my_list = [1,2,3]):\n",
        "    my_list.append(n)\n",
        "    return my_list\n",
        "\n",
        "x = lengthen_list(4)\n",
        "print(x)\n",
        "x = lengthen_list(4)\n",
        "print(x)\n",
        "x = lengthen_list(4)\n",
        "print(x)"
      ]
    },
    {
      "cell_type": "markdown",
      "id": "a98531f5-b3b3-4d30-b5a6-ea9388710b59",
      "metadata": {
        "id": "a98531f5-b3b3-4d30-b5a6-ea9388710b59"
      },
      "source": [
        "This behavior is one of the classic \"gotchas\" in Python, and it's due to how **default mutable arguments** (like lists or dictionaries) work in function definitions.\n",
        "Now here's the key behavior:\n",
        "1. The default value for *my_list* is created only once, when the function is first defined — not every time it's called.\n",
        "2. So if the function is called without specifying my_list, it uses the same list object every time.\n",
        "\n",
        "First call:\n",
        "```python\n",
        "x = lengthen_list(4)\n",
        "```\n",
        " - my_list starts as [1, 2, 3].\\\n",
        " - 4 is appended → list becomes [1, 2, 3, 4].\\\n",
        "Second call:\n",
        "```python\n",
        "x = lengthen_list(4)\n",
        "```\n",
        " - my_list is still the same list from before: [1, 2, 3, 4].\\\n",
        " - 4 is appended again → list becomes [1, 2, 3, 4, 4].\\\n",
        "Third call:\n",
        "```python\n",
        "x = lengthen_list(4)\n",
        "```\n",
        " - List continues from the last state: [1, 2, 3, 4, 4].\\\n",
        " - Another 4 appended → becomes [1, 2, 3, 4, 4, 4]."
      ]
    },
    {
      "cell_type": "markdown",
      "id": "244b2b27-f727-429c-8eef-302f1f12edd3",
      "metadata": {
        "id": "244b2b27-f727-429c-8eef-302f1f12edd3"
      },
      "source": [
        "### *args\n",
        "When I decide not to declare the exact number of positional parameters I expect, I can do in this way\n",
        "```python\n",
        "def foo(x, y, *args):\n",
        "```\n",
        "so when I call the function, afret the positional arguments defined, I can pass whatever I want\n"
      ]
    },
    {
      "cell_type": "code",
      "execution_count": null,
      "id": "445d0c2d-da36-4c6b-b31d-3b5c905d2a7e",
      "metadata": {
        "id": "445d0c2d-da36-4c6b-b31d-3b5c905d2a7e",
        "outputId": "5c81d40b-9f7d-458d-af3c-7dbaf2ff67fc"
      },
      "outputs": [
        {
          "name": "stdout",
          "output_type": "stream",
          "text": [
            "1 5 (4, 5, 3, 2, 5, 6)\n"
          ]
        }
      ],
      "source": [
        "def foo(x, y, *args):\n",
        "    print(x, y, args)\n",
        "\n",
        "foo(1,5,4,5,3,2,5,6)"
      ]
    },
    {
      "cell_type": "markdown",
      "id": "3047dc34-519a-49f2-a86d-63ec2f674dfe",
      "metadata": {
        "id": "3047dc34-519a-49f2-a86d-63ec2f674dfe"
      },
      "source": [
        "the multiple values are stored iun a tuple (immutable).\n",
        "\n",
        "### **kwargs\n",
        "I can do the same thing with keyword parameters, in thsi way\n",
        "```python\n",
        "def bar(*args, **kwargs):\n",
        "```"
      ]
    },
    {
      "cell_type": "code",
      "execution_count": null,
      "id": "38400447-0c56-44b0-8346-f7533d6344b6",
      "metadata": {
        "id": "38400447-0c56-44b0-8346-f7533d6344b6",
        "outputId": "6558bb04-2072-4711-e11a-5196359a5813"
      },
      "outputs": [
        {
          "name": "stdout",
          "output_type": "stream",
          "text": [
            "() {'x': 1, 's': 'hello', 'b': False}\n",
            "(9, 8, 'hello world') {'x': 1, 's': 'hello', 'b': False}\n"
          ]
        }
      ],
      "source": [
        "def bar(*args, **kwargs):\n",
        "    print(args, kwargs)\n",
        "\n",
        "bar(x = 1, s = 'hello', b = False)  # I have no positional pars\n",
        "\n",
        "bar(9, 8 , 'hello world', x = 1, s = 'hello', b = False)  # with positional pars"
      ]
    },
    {
      "cell_type": "markdown",
      "id": "b823ede0-0ef8-49f3-aa15-b0ff615c65ce",
      "metadata": {
        "id": "b823ede0-0ef8-49f3-aa15-b0ff615c65ce"
      },
      "source": [
        "as you probably noticed, the kwargs are stored in a dictionary.\n",
        "This is particulary usefull when you want your function to be dynamic and you don't know how many arguments you have to pass.\n",
        "\n",
        "Let's finish with the usage of *args and **kwargs inside the call of a function"
      ]
    },
    {
      "cell_type": "code",
      "execution_count": null,
      "id": "79c7571e-c0b1-4571-83dd-10750cfab692",
      "metadata": {
        "id": "79c7571e-c0b1-4571-83dd-10750cfab692",
        "outputId": "7daa3dbb-97e9-4789-f7d5-f47f047d99a4"
      },
      "outputs": [
        {
          "name": "stdout",
          "output_type": "stream",
          "text": [
            "1 2 hello False\n"
          ]
        }
      ],
      "source": [
        "def some_different_bar(a, b, c = 'Hello', d = True):\n",
        "    print(a, b , c, d)\n",
        "\n",
        "some_different_bar(*[1,2], **{'c':'hello', 'd': False})       # the first * decompose the list"
      ]
    },
    {
      "cell_type": "markdown",
      "id": "f43ac264-b77e-4976-9da1-4918bc95da4d",
      "metadata": {
        "id": "f43ac264-b77e-4976-9da1-4918bc95da4d"
      },
      "source": [
        "## if \\_\\_name\\_\\_ == '\\_\\_main\\_\\_'\n",
        "One of a particular thing of Python is this statement\n",
        "```python\n",
        "if __name__ == '__main__'\n",
        "```\n",
        "this is telling you if you're running the module you want. In a Python project you may have some modules being imported some others being executed directly and you may want to choose not to execute some instructions when the module is imported.\n",
        "Let's do an example: you have a project with two files, the first one is **lib.py**\n",
        "```python\n",
        "# lib.py\n",
        "def add(x, y, ):\n",
        "    return a + b\n",
        "\n",
        "if __name__ == '__main__'\n",
        "    print(\"lib is running\")\n",
        "```\n",
        "the second one is **another_file.py**\n",
        "```python\n",
        "# another_file.py\n",
        "from lib import add\n",
        "\n",
        "print(add(3,4))\n",
        "```\n",
        "if I run **python lib.py** I'll see \\\n",
        "<span style=\"font-family: 'Courier New', monospace;\">lib is running</span> \\\n",
        "if I run **python another_file.py** I'll see \\\n",
        "<span style=\"font-family: 'Courier New', monospace;\">7</span> \\\n",
        "If I modify **lib.py** in this way:\n",
        "```python\n",
        "# lib.py\n",
        "def add(x, y, ):\n",
        "    return a + b\n",
        "\n",
        "#if __name__ == '__main__'\n",
        "print(\"lib is running\")\n",
        "```\n",
        "Now if I run **python another_file.py** I'll see \\\n",
        "<span style=\"font-family: 'Courier New', monospace;\">lib is running<br>\n",
        "7</span>"
      ]
    },
    {
      "cell_type": "markdown",
      "id": "88e45cf5-fcf9-4729-81ef-77eb42357138",
      "metadata": {
        "id": "88e45cf5-fcf9-4729-81ef-77eb42357138"
      },
      "source": [
        "## Modules\n",
        "When you need a functionality, for instance from Python standard library, you have to import it in this way\n",
        "```python\n",
        "import math\n",
        "```\n",
        "and now you can access to all the functionalities of the **math** library (you can check them here [Math library](https://docs.python.org/3/library/math.html#module-math) the doc)\n",
        "If you want an idea of these functions, you can just type\n",
        "```python\n",
        "dir(math)\n",
        "```\n",
        "Here some examples:"
      ]
    },
    {
      "cell_type": "code",
      "execution_count": null,
      "id": "e73a8896-67ac-40bd-b6f6-8052a6c70212",
      "metadata": {
        "id": "e73a8896-67ac-40bd-b6f6-8052a6c70212",
        "outputId": "8a1e8c29-f9e2-40b2-acf0-4b105d79b924"
      },
      "outputs": [
        {
          "name": "stdout",
          "output_type": "stream",
          "text": [
            "3.141592653589793\n",
            "1.0\n"
          ]
        }
      ],
      "source": [
        "import math\n",
        "\n",
        "print(math.pi)\n",
        "\n",
        "print(math.cos(0))"
      ]
    },
    {
      "cell_type": "markdown",
      "id": "cc369ceb-4356-42e5-9dde-efbd0cb2784d",
      "metadata": {
        "id": "cc369ceb-4356-42e5-9dde-efbd0cb2784d"
      },
      "source": [
        "Another useful lib is **random** you can check them here [Random library](ttps://docs.python.org/3/library/random.html)"
      ]
    },
    {
      "cell_type": "code",
      "execution_count": null,
      "id": "79a3e5ca-e2ed-4fb2-8381-d7c945aedc73",
      "metadata": {
        "id": "79a3e5ca-e2ed-4fb2-8381-d7c945aedc73",
        "outputId": "22734a5f-e165-4bf3-f9d1-15bd0a69c752"
      },
      "outputs": [
        {
          "name": "stdout",
          "output_type": "stream",
          "text": [
            "45\n"
          ]
        }
      ],
      "source": [
        "import random\n",
        "\n",
        "print(random.randint(1,100))"
      ]
    },
    {
      "cell_type": "markdown",
      "id": "1cbf2df5-0c50-4b9c-aacd-c84362d6cb7a",
      "metadata": {
        "id": "1cbf2df5-0c50-4b9c-aacd-c84362d6cb7a"
      },
      "source": [
        "### Zip function\n",
        "Basically the zip function take the content from two lists, creating a new structure whick items area a comnbination of the elements from the same position of the two original lists"
      ]
    },
    {
      "cell_type": "code",
      "execution_count": null,
      "id": "74f66336-d82d-4bae-a255-2b3398b12c46",
      "metadata": {
        "id": "74f66336-d82d-4bae-a255-2b3398b12c46",
        "outputId": "54bdd0f0-44f2-427a-f992-f2f2155906e0"
      },
      "outputs": [
        {
          "name": "stdout",
          "output_type": "stream",
          "text": [
            "The result of the zip function is <zip object at 0x1056d49c0> it is of type <class 'zip'>\n",
            "\n",
            "The result now is [(1, 'a'), (2, 'b'), (3, 'c'), (4, 'd')] it is of type <class 'list'>\n",
            "\n"
          ]
        }
      ],
      "source": [
        "my_list_1 = [1,2,3,4]\n",
        "my_list_2 = ['a','b','c','d']\n",
        "\n",
        "joined = zip(my_list_1,my_list_2)\n",
        "print(f'The result of the zip function is {joined} it is of type {type(joined)}')\n",
        "print()\n",
        "\n",
        "# if I want to visualize the content...\n",
        "joined_list = list(zip(my_list_1,my_list_2))\n",
        "print(f'The result now is {joined_list} it is of type {type(joined_list)}')\n",
        "print()"
      ]
    },
    {
      "cell_type": "markdown",
      "id": "1bec9721-92f7-4d31-8caf-c81af151d93c",
      "metadata": {
        "id": "1bec9721-92f7-4d31-8caf-c81af151d93c"
      },
      "source": [
        "To separate a zip, you can do in this way"
      ]
    },
    {
      "cell_type": "code",
      "execution_count": null,
      "id": "c7239e1b-b3f9-45bd-bdb0-a8db708dfe77",
      "metadata": {
        "id": "c7239e1b-b3f9-45bd-bdb0-a8db708dfe77",
        "outputId": "5fb1e7cc-100a-44c8-daec-1eb04898ef6f"
      },
      "outputs": [
        {
          "name": "stdout",
          "output_type": "stream",
          "text": [
            "(1, 2, 3, 4) \n",
            "('a', 'b', 'c', 'd') "
          ]
        }
      ],
      "source": [
        "i,j = zip(*joined_list)\n",
        "print(i, end=' ')\n",
        "print()\n",
        "print(j, end=' ')"
      ]
    },
    {
      "cell_type": "markdown",
      "id": "42743332-27c5-4833-b873-f339d90e0a91",
      "metadata": {
        "id": "42743332-27c5-4833-b873-f339d90e0a91"
      },
      "source": [
        "### Exercise\n",
        "You must count the letters inside a text and you must plot a distribution graph. The text is this: \\\n",
        "*Mr. Sherlock Holmes, who was usually very late in the mornings, save upon those not infrequent occasions when he was up all night, was seated at the breakfast table. I stood upon the hearth-rug and picked up the stick which our visitor had left behind him the night before. It was a fine, thick piece of wood, bulbous-headed, of the sort which is known as a “Penang lawyer.” Just under the head was a broad silver band nearly an inch across. “To James Mortimer, M.R.C.S., from his friends of the C.C.H.,” was engraved upon it, with the date “1884.” It was just such a stick as the old-fashioned family practitioner used to carry—dignified, solid, and reassuring.\n",
        "“Well, Watson, what do you make of it?”\n",
        "Holmes was sitting with his back to me, and I had given him no sign of my occupation.\n",
        "“How did you know what I was doing? I believe you have eyes in the back of your head.”\n",
        "“I have, at least, a well-polished, silver-plated coffee-pot in front of me,” said he. “But, tell me, Watson, what do you make of our visitor’s stick? Since we have been so unfortunate as to miss him and have no notion of his errand, this accidental souvenir becomes of importance. Let me hear you reconstruct the man by an examination of it.”\n",
        "“I think,” said I, following as far as I could the methods of my companion, “that Dr. Mortimer is a successful, elderly medical man, well-esteemed since those who know him give him this mark of their appreciation.”\n",
        "“Good!” said Holmes. “Excellent!”\n",
        "“I think also that the probability is in favour of his being a country practitioner who does a great deal of his visiting on foot.”\n",
        "“Why so?”\n",
        "“Because this stick, though originally a very handsome one has been so knocked about that I can hardly imagine a town practitioner carrying it. The thick-iron ferrule is worn down, so it is evident that he has done a great amount of walking with it.”\n",
        "“Perfectly sound!” said Holmes.\n",
        "“And then again, there is the ‘friends of the C.C.H.’ I should guess that to be the Something Hunt, the local hunt to whose members he has possibly given some surgical assistance, and which has made him a small presentation in return.”\n",
        "“Really, Watson, you excel yourself,” said Holmes, pushing back his chair and lighting a cigarette. “I am bound to say that in all the accounts which you have been so good as to give of my own small achievements you have habitually underrated your own abilities. It may be that you are not yourself luminous, but you are a conductor of light. Some people without possessing genius have a remarkable power of stimulating it. I confess, my dear fellow, that I am very much in your debt.”\n",
        "He had never said as much before, and I must admit that his words gave me keen pleasure, for I had often been piqued by his indifference to my admiration and to the attempts which I had made to give publicity to his methods. I was proud, too, to think that I had so far mastered his system as to apply it in a way which earned his approval. He now took the stick from my hands and examined it for a few minutes with his naked eyes. Then with an expression of interest he laid down his cigarette, and carrying the cane to the window, he looked over it again with a convex lens.*\n"
      ]
    },
    {
      "cell_type": "code",
      "execution_count": null,
      "id": "11816ccf-f379-4b4b-babf-c83d5b69ef52",
      "metadata": {
        "id": "11816ccf-f379-4b4b-babf-c83d5b69ef52",
        "outputId": "a68c46c1-9a97-4ab5-b490-6c30939e9078"
      },
      "outputs": [
        {
          "name": "stdout",
          "output_type": "stream",
          "text": [
            "{'m': 48, 'r': 37, 's': 37, 'h': 13, 'e': 142, 'l': 58, 'o': 199, 'c': 27, 'k': 30, 'w': 20, 'a': 91, 'u': 77, 'y': 51, 'v': 32, 't': 11, 'i': 23, 'n': 160, 'g': 30, 'p': 18, 'f': 56, 'q': 2, 'd': 56, 'b': 19, 'j': 2, 'x': 6}\n"
          ]
        },
        {
          "data": {
            "image/png": "[encoded data removed]",
            "text/plain": [
              "<Figure size 640x480 with 1 Axes>"
            ]
          },
          "metadata": {},
          "output_type": "display_data"
        }
      ],
      "source": [
        "## SOLUTION\n",
        "letter_count = {}\n",
        "sherlock = '''\n",
        "Mr. Sherlock Holmes, who was usually very late in the mornings, save upon those not infrequent occasions when he was up all night, was seated at the breakfast table. I stood upon the hearth-rug and picked up the stick which our visitor had left behind him the night before. It was a fine, thick piece of wood, bulbous-headed, of the sort which is known as a “Penang lawyer.” Just under the head was a broad silver band nearly an inch across. “To James Mortimer, M.R.C.S., from his friends of the C.C.H.,” was engraved upon it, with the date “1884.” It was just such a stick as the old-fashioned family practitioner used to carry—dignified, solid, and reassuring.\n",
        "\n",
        "“Well, Watson, what do you make of it?”\n",
        "\n",
        "Holmes was sitting with his back to me, and I had given him no sign of my occupation.\n",
        "\n",
        "“How did you know what I was doing? I believe you have eyes in the back of your head.”\n",
        "\n",
        "“I have, at least, a well-polished, silver-plated coffee-pot in front of me,” said he. “But, tell me, Watson, what do you make of our visitor’s stick? Since we have been so unfortunate as to miss him and have no notion of his errand, this accidental souvenir becomes of importance. Let me hear you reconstruct the man by an examination of it.”\n",
        "\n",
        "“I think,” said I, following as far as I could the methods of my companion, “that Dr. Mortimer is a successful, elderly medical man, well-esteemed since those who know him give him this mark of their appreciation.”\n",
        "\n",
        "“Good!” said Holmes. “Excellent!”\n",
        "\n",
        "“I think also that the probability is in favour of his being a country practitioner who does a great deal of his visiting on foot.”\n",
        "\n",
        "“Why so?”\n",
        "\n",
        "“Because this stick, though originally a very handsome one has been so knocked about that I can hardly imagine a town practitioner carrying it. The thick-iron ferrule is worn down, so it is evident that he has done a great amount of walking with it.”\n",
        "\n",
        "“Perfectly sound!” said Holmes.\n",
        "\n",
        "“And then again, there is the ‘friends of the C.C.H.’ I should guess that to be the Something Hunt, the local hunt to whose members he has possibly given some surgical assistance, and which has made him a small presentation in return.”\n",
        "\n",
        "“Really, Watson, you excel yourself,” said Holmes, pushing back his chair and lighting a cigarette. “I am bound to say that in all the accounts which you have been so good as to give of my own small achievements you have habitually underrated your own abilities. It may be that you are not yourself luminous, but you are a conductor of light. Some people without possessing genius have a remarkable power of stimulating it. I confess, my dear fellow, that I am very much in your debt.”\n",
        "\n",
        "He had never said as much before, and I must admit that his words gave me keen pleasure, for I had often been piqued by his indifference to my admiration and to the attempts which I had made to give publicity to his methods. I was proud, too, to think that I had so far mastered his system as to apply it in a way which earned his approval. He now took the stick from my hands and examined it for a few minutes with his naked eyes. Then with an expression of interest he laid down his cigarette, and carrying the cane to the window, he looked over it again with a convex lens.\n",
        "'''\n",
        "\n",
        "for letter in sherlock:\n",
        "    letter_count[letter.lower()] = letter_count.get(letter,0) + 1\n",
        "\n",
        "#print(letter_count)\n",
        "\n",
        "import matplotlib.pyplot as plt\n",
        "\n",
        "letter_count_clean = {}\n",
        "\n",
        "for k,v in letter_count.items():\n",
        "    if k.isalpha():\n",
        "        letter_count_clean[k] = v\n",
        "\n",
        "print(letter_count_clean)\n",
        "\n",
        "x,y = zip(*letter_count_clean.items())\n",
        "\n",
        "plt.bar(x,y)\n",
        "plt.show()"
      ]
    },
    {
      "cell_type": "code",
      "execution_count": null,
      "id": "fd07e82c-5bd0-4ca5-aeea-27ea52c8f985",
      "metadata": {
        "id": "fd07e82c-5bd0-4ca5-aeea-27ea52c8f985"
      },
      "outputs": [],
      "source": []
    },
    {
      "cell_type": "code",
      "execution_count": null,
      "id": "2919bc7d-ef5a-4a28-bea8-3c08fcb2ea6d",
      "metadata": {
        "id": "2919bc7d-ef5a-4a28-bea8-3c08fcb2ea6d",
        "outputId": "40866c90-7746-40fe-b992-a447e9239596"
      },
      "outputs": [
        {
          "name": "stdout",
          "output_type": "stream",
          "text": [
            "Counter({' ': 569, 'e': 257, 'a': 213, 'i': 211, 't': 206, 'o': 199, 's': 172, 'h': 161, 'n': 160, 'r': 114, 'd': 96, 'l': 87, 'c': 77, 'u': 77, 'm': 76, 'w': 61, 'f': 56, 'y': 51, ',': 46, 'g': 44, '.': 39, 'p': 38, 'b': 37, 'v': 32, 'k': 30, '\\n': 28, '“': 18, '”': 18, '-': 8, 'x': 6, '?': 4, 'j': 3, '!': 3, 'q': 2, '8': 2, '’': 2, '1': 1, '4': 1, '—': 1, '‘': 1})\n",
            "\n",
            "{'m': 76, 'r': 114, 's': 172, 'h': 161, 'e': 257, 'l': 87, 'o': 199, 'c': 77, 'k': 30, 'w': 61, 'a': 213, 'u': 77, 'y': 51, 'v': 32, 't': 206, 'i': 211, 'n': 160, 'g': 44, 'p': 38, 'f': 56, 'q': 2, 'd': 96, 'b': 37, 'j': 3, 'x': 6}\n"
          ]
        }
      ],
      "source": [
        "## aletrnative solution\n",
        "from collections import Counter\n",
        "\n",
        "print(Counter(sherlock.lower()))\n",
        "print()\n",
        "\n",
        "new_dict = dict(Counter(sherlock.lower()))\n",
        "\n",
        "new_dict = {k:v for k,v in new_dict.items() if k.isalpha()}\n",
        "\n",
        "print(new_dict)"
      ]
    },
    {
      "cell_type": "markdown",
      "id": "0123add1-39b0-42f7-8cab-73b7302f9227",
      "metadata": {
        "id": "0123add1-39b0-42f7-8cab-73b7302f9227"
      },
      "source": [
        "## Tuples\n",
        "Tuples are structure similar to lists but we must remember one fondamental thing: **tuples are immutable** so once a tuple is assigned you cannot change it; since tuple is immutable, you can use it as key of a dictionary."
      ]
    },
    {
      "cell_type": "markdown",
      "id": "cbdf2fc5-7945-45dc-8a9c-95c7ce25c518",
      "metadata": {
        "id": "cbdf2fc5-7945-45dc-8a9c-95c7ce25c518"
      },
      "source": [
        "## Exercises\n",
        "**Question 1** \\\n",
        "Can you remember how to check if a key exists in a dictionary?\n",
        "Using the capitals dictionary below write some code to ask the user to input\n",
        "a country, then check to see if that country is in the dictionary and if it is\n",
        "print the capital. If not tell the user it's not there.\n",
        "\n",
        "**Question 2** \\\n",
        "Write python code that will create a dictionary containing key, value pairs\n",
        "that represent the first 12 values of the Fibonacci sequence\n",
        "i.e {1:0,2:1,3:1,4:2,5:3,6:5,7:8 etc}\n",
        "\n",
        "**Question 3** \\\n",
        "Create a dictionary to represent the open, high, low, close share price data\n",
        "for 4 imaginary companies. 'Python DS', 'PythonSoft', 'Pythazon' and 'Pybook'\n",
        "the 4 sets of data are [12.87, 13.23, 11.42, 13.10],[23.54,25.76,21.87,22.33],\n",
        "[98.99,102.34,97.21,100.065],[203.63,207.54,202.43,205.24]\n",
        "\n",
        "**Question 4** \\\n",
        "Go to the python module web page and find a module that you like. Play with it,\n",
        "read the documentation and try to implement it.\n",
        "\n",
        "**Question 5** \\\n",
        "Create a dictoinary containing as keys the letters from A-Z, the values should\n",
        "be random numbers created from the random module. Can you draw a bar graph of\n",
        "the results?\n",
        "\n",
        "**Question 6** \\\n",
        "Create a dictionary containing 4 suits of 13 cards\n",
        "['Ace','2','3','4','5','6','7','8','9','10','Jack','Queen','King']\n",
        "'''"
      ]
    },
    {
      "cell_type": "code",
      "execution_count": null,
      "id": "7f6fad6a-c5a3-41cf-999e-846351f461f2",
      "metadata": {
        "id": "7f6fad6a-c5a3-41cf-999e-846351f461f2"
      },
      "outputs": [],
      "source": []
    }
  ],
  "metadata": {
    "kernelspec": {
      "display_name": "Python 3 (ipykernel)",
      "language": "python",
      "name": "python3"
    },
    "language_info": {
      "codemirror_mode": {
        "name": "ipython",
        "version": 3
      },
      "file_extension": ".py",
      "mimetype": "text/x-python",
      "name": "python",
      "nbconvert_exporter": "python",
      "pygments_lexer": "ipython3",
      "version": "3.13.3"
    },
    "colab": {
      "provenance": []
    }
  },
  "nbformat": 4,
  "nbformat_minor": 5
}